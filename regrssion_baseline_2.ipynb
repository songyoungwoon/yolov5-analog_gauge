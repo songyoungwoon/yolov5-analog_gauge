{
  "cells": [
    {
      "cell_type": "markdown",
      "metadata": {
        "id": "pC8gs9Ywq95n"
      },
      "source": [
        "# Import"
      ]
    },
    {
      "cell_type": "code",
      "execution_count": null,
      "metadata": {
        "id": "T0keDJmnq65M"
      },
      "outputs": [],
      "source": [
        "import numpy as np\n",
        "import pandas as pd\n",
        "import matplotlib.pyplot as plt\n",
        "from pathlib import Path\n",
        "import os.path\n",
        "import math\n",
        "\n",
        "import tensorflow as tf\n",
        "from tensorflow import keras\n",
        "from tensorflow.keras import layers, models, optimizers\n",
        "from tensorflow.keras.layers import Flatten, Dense\n",
        "from tensorflow.keras import Model\n",
        "\n",
        "from sklearn import metrics\n",
        "from sklearn.metrics import r2_score\n",
        "from sklearn.model_selection import train_test_split\n",
        "\n",
        "import sys"
      ]
    },
    {
      "cell_type": "markdown",
      "metadata": {
        "id": "ShsqN4Amp77c"
      },
      "source": [
        "# Data Load"
      ]
    },
    {
      "cell_type": "code",
      "execution_count": null,
      "metadata": {
        "id": "ngV_QJbOU2y1",
        "colab": {
          "base_uri": "https://localhost:8080/"
        },
        "outputId": "ecf0a034-acd8-40fd-d623-fda2ffcce224"
      },
      "outputs": [
        {
          "output_type": "stream",
          "name": "stdout",
          "text": [
            "replace classify_angle/Test/0/221003_150821.jpg? [y]es, [n]o, [A]ll, [N]one, [r]ename: "
          ]
        }
      ],
      "source": [
        "!unzip -q classify_angle.zip; rm classify_angle.zip"
      ]
    },
    {
      "cell_type": "code",
      "source": [
        "!pwd\n",
        "!ls"
      ],
      "metadata": {
        "colab": {
          "base_uri": "https://localhost:8080/"
        },
        "id": "ttqg0DUUvocu",
        "outputId": "47c9c02b-652b-4637-ef23-0cb431e6aafc"
      },
      "execution_count": null,
      "outputs": [
        {
          "output_type": "stream",
          "name": "stdout",
          "text": [
            "/content\n",
            "classify_angle\tsample_data\n"
          ]
        }
      ]
    },
    {
      "cell_type": "code",
      "execution_count": null,
      "metadata": {
        "id": "cS-m9FvguzF-"
      },
      "outputs": [],
      "source": [
        "image_dir = Path('./classify_angle/')"
      ]
    },
    {
      "cell_type": "code",
      "execution_count": null,
      "metadata": {
        "id": "w1T5oQS7qh07"
      },
      "outputs": [],
      "source": [
        "#initialized value  \n",
        "width=200 #the width of OCT image \n",
        "height=200 #the height of OCT image \n",
        "batch_size=1 # the number of batch "
      ]
    },
    {
      "cell_type": "code",
      "execution_count": null,
      "metadata": {
        "id": "9mrbgTEcwmJs",
        "scrolled": true
      },
      "outputs": [],
      "source": [
        "## new\n",
        "filepaths = pd.Series(list(image_dir.glob(r'Train/*/*.jpg')), name='Filepath').astype(str)\n",
        "angles = pd.Series(filepaths.apply(lambda x : os.path.split(os.path.split(x)[0])[1]), name='value').astype(float)\n",
        "train_images = pd.concat([filepaths, angles], axis = 1).sample(frac=1.0, random_state=1).reset_index(drop=True)\n",
        "\n",
        "filepaths = pd.Series(list(image_dir.glob(r'Test/*/*.jpg')), name='Filepath').astype(str)\n",
        "angles = pd.Series(filepaths.apply(lambda x : os.path.split(os.path.split(x)[0])[1]), name='value').astype(float)\n",
        "test_images = pd.concat([filepaths, angles], axis = 1).sample(frac=1.0, random_state=1).reset_index(drop=True)"
      ]
    },
    {
      "cell_type": "code",
      "execution_count": null,
      "metadata": {
        "colab": {
          "base_uri": "https://localhost:8080/",
          "height": 225
        },
        "id": "nNEBejJpwYFz",
        "outputId": "02be8fea-32d0-4bbe-f3f0-141c54c15f69",
        "scrolled": true
      },
      "outputs": [
        {
          "output_type": "stream",
          "name": "stdout",
          "text": [
            "1440\n"
          ]
        },
        {
          "output_type": "execute_result",
          "data": {
            "text/plain": [
              "                                     Filepath  value\n",
              "0  classify_angle/Train/352/221001_225151.jpg  352.0\n",
              "1  classify_angle/Train/193/221001_222521.jpg  193.0\n",
              "2  classify_angle/Train/152/221001_233150.jpg  152.0\n",
              "3   classify_angle/Train/35/221003_162228.jpg   35.0\n",
              "4   classify_angle/Train/70/221003_162818.jpg   70.0"
            ],
            "text/html": [
              "\n",
              "  <div id=\"df-1d042a70-2b57-4935-a6f8-741e9f5503e7\">\n",
              "    <div class=\"colab-df-container\">\n",
              "      <div>\n",
              "<style scoped>\n",
              "    .dataframe tbody tr th:only-of-type {\n",
              "        vertical-align: middle;\n",
              "    }\n",
              "\n",
              "    .dataframe tbody tr th {\n",
              "        vertical-align: top;\n",
              "    }\n",
              "\n",
              "    .dataframe thead th {\n",
              "        text-align: right;\n",
              "    }\n",
              "</style>\n",
              "<table border=\"1\" class=\"dataframe\">\n",
              "  <thead>\n",
              "    <tr style=\"text-align: right;\">\n",
              "      <th></th>\n",
              "      <th>Filepath</th>\n",
              "      <th>value</th>\n",
              "    </tr>\n",
              "  </thead>\n",
              "  <tbody>\n",
              "    <tr>\n",
              "      <th>0</th>\n",
              "      <td>classify_angle/Train/352/221001_225151.jpg</td>\n",
              "      <td>352.0</td>\n",
              "    </tr>\n",
              "    <tr>\n",
              "      <th>1</th>\n",
              "      <td>classify_angle/Train/193/221001_222521.jpg</td>\n",
              "      <td>193.0</td>\n",
              "    </tr>\n",
              "    <tr>\n",
              "      <th>2</th>\n",
              "      <td>classify_angle/Train/152/221001_233150.jpg</td>\n",
              "      <td>152.0</td>\n",
              "    </tr>\n",
              "    <tr>\n",
              "      <th>3</th>\n",
              "      <td>classify_angle/Train/35/221003_162228.jpg</td>\n",
              "      <td>35.0</td>\n",
              "    </tr>\n",
              "    <tr>\n",
              "      <th>4</th>\n",
              "      <td>classify_angle/Train/70/221003_162818.jpg</td>\n",
              "      <td>70.0</td>\n",
              "    </tr>\n",
              "  </tbody>\n",
              "</table>\n",
              "</div>\n",
              "      <button class=\"colab-df-convert\" onclick=\"convertToInteractive('df-1d042a70-2b57-4935-a6f8-741e9f5503e7')\"\n",
              "              title=\"Convert this dataframe to an interactive table.\"\n",
              "              style=\"display:none;\">\n",
              "        \n",
              "  <svg xmlns=\"http://www.w3.org/2000/svg\" height=\"24px\"viewBox=\"0 0 24 24\"\n",
              "       width=\"24px\">\n",
              "    <path d=\"M0 0h24v24H0V0z\" fill=\"none\"/>\n",
              "    <path d=\"M18.56 5.44l.94 2.06.94-2.06 2.06-.94-2.06-.94-.94-2.06-.94 2.06-2.06.94zm-11 1L8.5 8.5l.94-2.06 2.06-.94-2.06-.94L8.5 2.5l-.94 2.06-2.06.94zm10 10l.94 2.06.94-2.06 2.06-.94-2.06-.94-.94-2.06-.94 2.06-2.06.94z\"/><path d=\"M17.41 7.96l-1.37-1.37c-.4-.4-.92-.59-1.43-.59-.52 0-1.04.2-1.43.59L10.3 9.45l-7.72 7.72c-.78.78-.78 2.05 0 2.83L4 21.41c.39.39.9.59 1.41.59.51 0 1.02-.2 1.41-.59l7.78-7.78 2.81-2.81c.8-.78.8-2.07 0-2.86zM5.41 20L4 18.59l7.72-7.72 1.47 1.35L5.41 20z\"/>\n",
              "  </svg>\n",
              "      </button>\n",
              "      \n",
              "  <style>\n",
              "    .colab-df-container {\n",
              "      display:flex;\n",
              "      flex-wrap:wrap;\n",
              "      gap: 12px;\n",
              "    }\n",
              "\n",
              "    .colab-df-convert {\n",
              "      background-color: #E8F0FE;\n",
              "      border: none;\n",
              "      border-radius: 50%;\n",
              "      cursor: pointer;\n",
              "      display: none;\n",
              "      fill: #1967D2;\n",
              "      height: 32px;\n",
              "      padding: 0 0 0 0;\n",
              "      width: 32px;\n",
              "    }\n",
              "\n",
              "    .colab-df-convert:hover {\n",
              "      background-color: #E2EBFA;\n",
              "      box-shadow: 0px 1px 2px rgba(60, 64, 67, 0.3), 0px 1px 3px 1px rgba(60, 64, 67, 0.15);\n",
              "      fill: #174EA6;\n",
              "    }\n",
              "\n",
              "    [theme=dark] .colab-df-convert {\n",
              "      background-color: #3B4455;\n",
              "      fill: #D2E3FC;\n",
              "    }\n",
              "\n",
              "    [theme=dark] .colab-df-convert:hover {\n",
              "      background-color: #434B5C;\n",
              "      box-shadow: 0px 1px 3px 1px rgba(0, 0, 0, 0.15);\n",
              "      filter: drop-shadow(0px 1px 2px rgba(0, 0, 0, 0.3));\n",
              "      fill: #FFFFFF;\n",
              "    }\n",
              "  </style>\n",
              "\n",
              "      <script>\n",
              "        const buttonEl =\n",
              "          document.querySelector('#df-1d042a70-2b57-4935-a6f8-741e9f5503e7 button.colab-df-convert');\n",
              "        buttonEl.style.display =\n",
              "          google.colab.kernel.accessAllowed ? 'block' : 'none';\n",
              "\n",
              "        async function convertToInteractive(key) {\n",
              "          const element = document.querySelector('#df-1d042a70-2b57-4935-a6f8-741e9f5503e7');\n",
              "          const dataTable =\n",
              "            await google.colab.kernel.invokeFunction('convertToInteractive',\n",
              "                                                     [key], {});\n",
              "          if (!dataTable) return;\n",
              "\n",
              "          const docLinkHtml = 'Like what you see? Visit the ' +\n",
              "            '<a target=\"_blank\" href=https://colab.research.google.com/notebooks/data_table.ipynb>data table notebook</a>'\n",
              "            + ' to learn more about interactive tables.';\n",
              "          element.innerHTML = '';\n",
              "          dataTable['output_type'] = 'display_data';\n",
              "          await google.colab.output.renderOutput(dataTable, element);\n",
              "          const docLink = document.createElement('div');\n",
              "          docLink.innerHTML = docLinkHtml;\n",
              "          element.appendChild(docLink);\n",
              "        }\n",
              "      </script>\n",
              "    </div>\n",
              "  </div>\n",
              "  "
            ]
          },
          "metadata": {},
          "execution_count": 307
        }
      ],
      "source": [
        "print(len(train_images))\n",
        "train_images.head(5)"
      ]
    },
    {
      "cell_type": "code",
      "execution_count": null,
      "metadata": {
        "colab": {
          "base_uri": "https://localhost:8080/",
          "height": 225
        },
        "id": "DpLzSlY2qh08",
        "outputId": "ede94bc9-62c8-4f1a-ee5c-64221500bc6f"
      },
      "outputs": [
        {
          "output_type": "stream",
          "name": "stdout",
          "text": [
            "360\n"
          ]
        },
        {
          "output_type": "execute_result",
          "data": {
            "text/plain": [
              "                                    Filepath  value\n",
              "0  classify_angle/Test/252/221003_155022.jpg  252.0\n",
              "1  classify_angle/Test/181/221003_153832.jpg  181.0\n",
              "2  classify_angle/Test/296/221003_155742.jpg  296.0\n",
              "3  classify_angle/Test/237/221003_154752.jpg  237.0\n",
              "4  classify_angle/Test/215/221003_154412.jpg  215.0"
            ],
            "text/html": [
              "\n",
              "  <div id=\"df-a6183c78-697d-49b9-9db2-6d08e10736b7\">\n",
              "    <div class=\"colab-df-container\">\n",
              "      <div>\n",
              "<style scoped>\n",
              "    .dataframe tbody tr th:only-of-type {\n",
              "        vertical-align: middle;\n",
              "    }\n",
              "\n",
              "    .dataframe tbody tr th {\n",
              "        vertical-align: top;\n",
              "    }\n",
              "\n",
              "    .dataframe thead th {\n",
              "        text-align: right;\n",
              "    }\n",
              "</style>\n",
              "<table border=\"1\" class=\"dataframe\">\n",
              "  <thead>\n",
              "    <tr style=\"text-align: right;\">\n",
              "      <th></th>\n",
              "      <th>Filepath</th>\n",
              "      <th>value</th>\n",
              "    </tr>\n",
              "  </thead>\n",
              "  <tbody>\n",
              "    <tr>\n",
              "      <th>0</th>\n",
              "      <td>classify_angle/Test/252/221003_155022.jpg</td>\n",
              "      <td>252.0</td>\n",
              "    </tr>\n",
              "    <tr>\n",
              "      <th>1</th>\n",
              "      <td>classify_angle/Test/181/221003_153832.jpg</td>\n",
              "      <td>181.0</td>\n",
              "    </tr>\n",
              "    <tr>\n",
              "      <th>2</th>\n",
              "      <td>classify_angle/Test/296/221003_155742.jpg</td>\n",
              "      <td>296.0</td>\n",
              "    </tr>\n",
              "    <tr>\n",
              "      <th>3</th>\n",
              "      <td>classify_angle/Test/237/221003_154752.jpg</td>\n",
              "      <td>237.0</td>\n",
              "    </tr>\n",
              "    <tr>\n",
              "      <th>4</th>\n",
              "      <td>classify_angle/Test/215/221003_154412.jpg</td>\n",
              "      <td>215.0</td>\n",
              "    </tr>\n",
              "  </tbody>\n",
              "</table>\n",
              "</div>\n",
              "      <button class=\"colab-df-convert\" onclick=\"convertToInteractive('df-a6183c78-697d-49b9-9db2-6d08e10736b7')\"\n",
              "              title=\"Convert this dataframe to an interactive table.\"\n",
              "              style=\"display:none;\">\n",
              "        \n",
              "  <svg xmlns=\"http://www.w3.org/2000/svg\" height=\"24px\"viewBox=\"0 0 24 24\"\n",
              "       width=\"24px\">\n",
              "    <path d=\"M0 0h24v24H0V0z\" fill=\"none\"/>\n",
              "    <path d=\"M18.56 5.44l.94 2.06.94-2.06 2.06-.94-2.06-.94-.94-2.06-.94 2.06-2.06.94zm-11 1L8.5 8.5l.94-2.06 2.06-.94-2.06-.94L8.5 2.5l-.94 2.06-2.06.94zm10 10l.94 2.06.94-2.06 2.06-.94-2.06-.94-.94-2.06-.94 2.06-2.06.94z\"/><path d=\"M17.41 7.96l-1.37-1.37c-.4-.4-.92-.59-1.43-.59-.52 0-1.04.2-1.43.59L10.3 9.45l-7.72 7.72c-.78.78-.78 2.05 0 2.83L4 21.41c.39.39.9.59 1.41.59.51 0 1.02-.2 1.41-.59l7.78-7.78 2.81-2.81c.8-.78.8-2.07 0-2.86zM5.41 20L4 18.59l7.72-7.72 1.47 1.35L5.41 20z\"/>\n",
              "  </svg>\n",
              "      </button>\n",
              "      \n",
              "  <style>\n",
              "    .colab-df-container {\n",
              "      display:flex;\n",
              "      flex-wrap:wrap;\n",
              "      gap: 12px;\n",
              "    }\n",
              "\n",
              "    .colab-df-convert {\n",
              "      background-color: #E8F0FE;\n",
              "      border: none;\n",
              "      border-radius: 50%;\n",
              "      cursor: pointer;\n",
              "      display: none;\n",
              "      fill: #1967D2;\n",
              "      height: 32px;\n",
              "      padding: 0 0 0 0;\n",
              "      width: 32px;\n",
              "    }\n",
              "\n",
              "    .colab-df-convert:hover {\n",
              "      background-color: #E2EBFA;\n",
              "      box-shadow: 0px 1px 2px rgba(60, 64, 67, 0.3), 0px 1px 3px 1px rgba(60, 64, 67, 0.15);\n",
              "      fill: #174EA6;\n",
              "    }\n",
              "\n",
              "    [theme=dark] .colab-df-convert {\n",
              "      background-color: #3B4455;\n",
              "      fill: #D2E3FC;\n",
              "    }\n",
              "\n",
              "    [theme=dark] .colab-df-convert:hover {\n",
              "      background-color: #434B5C;\n",
              "      box-shadow: 0px 1px 3px 1px rgba(0, 0, 0, 0.15);\n",
              "      filter: drop-shadow(0px 1px 2px rgba(0, 0, 0, 0.3));\n",
              "      fill: #FFFFFF;\n",
              "    }\n",
              "  </style>\n",
              "\n",
              "      <script>\n",
              "        const buttonEl =\n",
              "          document.querySelector('#df-a6183c78-697d-49b9-9db2-6d08e10736b7 button.colab-df-convert');\n",
              "        buttonEl.style.display =\n",
              "          google.colab.kernel.accessAllowed ? 'block' : 'none';\n",
              "\n",
              "        async function convertToInteractive(key) {\n",
              "          const element = document.querySelector('#df-a6183c78-697d-49b9-9db2-6d08e10736b7');\n",
              "          const dataTable =\n",
              "            await google.colab.kernel.invokeFunction('convertToInteractive',\n",
              "                                                     [key], {});\n",
              "          if (!dataTable) return;\n",
              "\n",
              "          const docLinkHtml = 'Like what you see? Visit the ' +\n",
              "            '<a target=\"_blank\" href=https://colab.research.google.com/notebooks/data_table.ipynb>data table notebook</a>'\n",
              "            + ' to learn more about interactive tables.';\n",
              "          element.innerHTML = '';\n",
              "          dataTable['output_type'] = 'display_data';\n",
              "          await google.colab.output.renderOutput(dataTable, element);\n",
              "          const docLink = document.createElement('div');\n",
              "          docLink.innerHTML = docLinkHtml;\n",
              "          element.appendChild(docLink);\n",
              "        }\n",
              "      </script>\n",
              "    </div>\n",
              "  </div>\n",
              "  "
            ]
          },
          "metadata": {},
          "execution_count": 328
        }
      ],
      "source": [
        "print(len(test_images))\n",
        "test_images.head(5)"
      ]
    },
    {
      "cell_type": "code",
      "execution_count": null,
      "metadata": {
        "colab": {
          "base_uri": "https://localhost:8080/",
          "height": 251
        },
        "id": "zK4jQ9NA45Yu",
        "outputId": "bfd79c51-51fd-4d33-e282-26dba59a921d"
      },
      "outputs": [
        {
          "output_type": "error",
          "ename": "NameError",
          "evalue": "ignored",
          "traceback": [
            "\u001b[0;31m---------------------------------------------------------------------------\u001b[0m",
            "\u001b[0;31mNameError\u001b[0m                                 Traceback (most recent call last)",
            "\u001b[0;32m<ipython-input-1-5d2962be4cf3>\u001b[0m in \u001b[0;36m<module>\u001b[0;34m\u001b[0m\n\u001b[0;32m----> 1\u001b[0;31m fig, axes = plt.subplots(nrows=4, ncols=10, figsize=(15, 7),\n\u001b[0m\u001b[1;32m      2\u001b[0m                         subplot_kw={'xticks': [], 'yticks': []})\n\u001b[1;32m      3\u001b[0m \u001b[0;34m\u001b[0m\u001b[0m\n\u001b[1;32m      4\u001b[0m \u001b[0;32mfor\u001b[0m \u001b[0mi\u001b[0m\u001b[0;34m,\u001b[0m \u001b[0max\u001b[0m \u001b[0;32min\u001b[0m \u001b[0menumerate\u001b[0m\u001b[0;34m(\u001b[0m\u001b[0maxes\u001b[0m\u001b[0;34m.\u001b[0m\u001b[0mflat\u001b[0m\u001b[0;34m)\u001b[0m\u001b[0;34m:\u001b[0m\u001b[0;34m\u001b[0m\u001b[0;34m\u001b[0m\u001b[0m\n\u001b[1;32m      5\u001b[0m     \u001b[0max\u001b[0m\u001b[0;34m.\u001b[0m\u001b[0mimshow\u001b[0m\u001b[0;34m(\u001b[0m\u001b[0mplt\u001b[0m\u001b[0;34m.\u001b[0m\u001b[0mimread\u001b[0m\u001b[0;34m(\u001b[0m\u001b[0mtrain_images\u001b[0m\u001b[0;34m.\u001b[0m\u001b[0mFilepath\u001b[0m\u001b[0;34m[\u001b[0m\u001b[0mi\u001b[0m\u001b[0;34m]\u001b[0m\u001b[0;34m)\u001b[0m\u001b[0;34m)\u001b[0m\u001b[0;34m\u001b[0m\u001b[0;34m\u001b[0m\u001b[0m\n",
            "\u001b[0;31mNameError\u001b[0m: name 'plt' is not defined"
          ]
        }
      ],
      "source": [
        "fig, axes = plt.subplots(nrows=4, ncols=10, figsize=(15, 7),\n",
        "                        subplot_kw={'xticks': [], 'yticks': []})\n",
        "\n",
        "for i, ax in enumerate(axes.flat):\n",
        "    ax.imshow(plt.imread(train_images.Filepath[i]))\n",
        "    ax.set_title(train_images.value[i], fontsize = 12)\n",
        "plt.tight_layout(pad=0.5)\n",
        "plt.show()"
      ]
    },
    {
      "cell_type": "code",
      "execution_count": null,
      "metadata": {
        "id": "ZTg9YE8sqh09"
      },
      "outputs": [],
      "source": [
        "train_df=train_images.copy()\n",
        "test_df=test_images.copy()"
      ]
    },
    {
      "cell_type": "code",
      "execution_count": null,
      "metadata": {
        "colab": {
          "base_uri": "https://localhost:8080/"
        },
        "id": "Zv7zZlQou0hM",
        "outputId": "799ba09b-7b9e-4297-fb5a-f770e98cc459"
      },
      "outputs": [
        {
          "output_type": "stream",
          "name": "stdout",
          "text": [
            "(360, 2)\n",
            "(360, 2)\n"
          ]
        }
      ],
      "source": [
        "print(train_df.shape)\n",
        "print(test_df.shape)"
      ]
    },
    {
      "cell_type": "code",
      "execution_count": null,
      "metadata": {
        "id": "m9-4pr58xV6-"
      },
      "outputs": [],
      "source": [
        "train_generator = tf.keras.preprocessing.image.ImageDataGenerator(\n",
        "    # rescale =1./255\n",
        "#     validation_split=0.2\n",
        ")\n",
        "test_generator = tf.keras.preprocessing.image.ImageDataGenerator(\n",
        "    # rescale =1./255\n",
        ")"
      ]
    },
    {
      "cell_type": "code",
      "execution_count": null,
      "metadata": {
        "colab": {
          "base_uri": "https://localhost:8080/"
        },
        "id": "GIY7zGU85AZH",
        "outputId": "cf6c66ce-2a28-4786-f5e0-2785ffaddcd8"
      },
      "outputs": [
        {
          "output_type": "stream",
          "name": "stdout",
          "text": [
            "Found 360 validated image filenames.\n",
            "Found 360 validated image filenames.\n"
          ]
        }
      ],
      "source": [
        "train_data = train_generator.flow_from_dataframe(\n",
        "    dataframe=train_df,\n",
        "    x_col='Filepath',\n",
        "    y_col='value',\n",
        "    target_size=(height, width),\n",
        "    color_mode='rgb',\n",
        "    class_mode='raw',\n",
        "    batch_size=batch_size,\n",
        "    shuffle=True,\n",
        "    seed=42,\n",
        "    subset='training',\n",
        "    # save_to_dir= '..',\n",
        "    # save_format = 'jpeg'\n",
        ")\n",
        "test_data = test_generator.flow_from_dataframe(\n",
        "    dataframe=test_df,\n",
        "    x_col='Filepath',\n",
        "    y_col='value',\n",
        "    target_size = (height, width),\n",
        "    color_mode='rgb',\n",
        "    class_mode='raw',\n",
        "    batch_size=batch_size,\n",
        "    shuffle = False\n",
        ")\n",
        "# val_images = train_generator.flow_from_dataframe(\n",
        "#     dataframe=train_df,\n",
        "#     x_col='Filepath',\n",
        "#     y_col='value',\n",
        "#     target_size = (height, width),\n",
        "#     color_mode='rgb',\n",
        "#     class_mode='raw',\n",
        "#     batch_size=batch_size,\n",
        "#     shuffle=True,\n",
        "#     seed=42,\n",
        "#     subset='validation'\n",
        "# )"
      ]
    },
    {
      "cell_type": "markdown",
      "metadata": {
        "id": "3J0lJYCWKAAd"
      },
      "source": [
        "# Model"
      ]
    },
    {
      "cell_type": "code",
      "execution_count": null,
      "metadata": {
        "id": "KX2F2uf1qh1A"
      },
      "outputs": [],
      "source": [
        "from tensorflow.keras.applications import ResNet50"
      ]
    },
    {
      "cell_type": "code",
      "execution_count": null,
      "metadata": {
        "id": "ZjOSfJV0qh1A"
      },
      "outputs": [],
      "source": [
        "resnet_model = ResNet50(weights=None, input_shape=(height, width, 3), include_top=False)\n",
        "last = resnet_model.output\n",
        "x = Flatten()(last)\n",
        "x = Dense(1024, activation='relu')(x)\n",
        "x = Dense(512, activation='relu')(x)\n",
        "output_layer = Dense(1, activation='linear')(x)\n",
        "\n",
        "resnet_model = Model(resnet_model.input, output_layer)\n",
        "resnet_model.summary()"
      ]
    },
    {
      "cell_type": "code",
      "execution_count": null,
      "metadata": {
        "id": "MJnSU6VGqh1A"
      },
      "outputs": [],
      "source": [
        "model_path = 'resnet50.h5'"
      ]
    },
    {
      "cell_type": "code",
      "source": [
        "# resnet_model.reset_states()\n",
        "input_shape = (200,200,3)\n",
        "\n",
        "input_tensor = layers.Input(shape = input_shape)\n",
        "\n",
        "conv1_1 = layers.Conv2D(16, (3,3), padding='same', activation='relu')(input_tensor)\n",
        "conv1_2 = layers.MaxPool2D()(conv1_1)\n",
        "\n",
        "conv2_1 = layers.Conv2D(32, (3,3), padding='same', activation='relu')(conv1_2)\n",
        "conv2_2 = layers.MaxPool2D()(conv2_1)\n",
        "\n",
        "conv3_1 = layers.Conv2D(64, (3,3), padding='same', activation='relu')(conv2_2)\n",
        "conv3_2 = layers.MaxPool2D()(conv3_1)\n",
        "\n",
        "conv4_1 = layers.Conv2D(64, (3,3), padding='same', activation='relu')(conv3_2)\n",
        "conv4_2 = layers.MaxPool2D()(conv4_1)\n",
        "\n",
        "conv5_1 = layers.Conv2D(128, (3,3), padding='same', activation='relu')(conv4_2)\n",
        "conv5_2 = layers.MaxPool2D()(conv5_1)\n",
        "\n",
        "conv6_1 = layers.Conv2D(128, (3,3), padding='same', activation='relu')(conv5_2)\n",
        "conv6_2 = layers.MaxPool2D()(conv6_1)\n",
        "\n",
        "flatten = layers.Flatten()(conv6_2)\n",
        "dense1 = layers.Dense(128, activation='relu')(flatten)\n",
        "dense2 = layers.Dense(32, activation='relu')(dense1)\n",
        "output_class = layers.Dense(1, activation='linear')(dense2)\n",
        "\n",
        "resnet_model = models.Model(input_tensor, output_class)\n",
        "resnet_model.summary()"
      ],
      "metadata": {
        "id": "aFZlnjgrsXpB"
      },
      "execution_count": null,
      "outputs": []
    },
    {
      "cell_type": "markdown",
      "metadata": {
        "id": "2cdkFpgLzlw-"
      },
      "source": [
        "# Loss Function"
      ]
    },
    {
      "cell_type": "code",
      "execution_count": null,
      "metadata": {
        "id": "YM9xt3cQqh1B"
      },
      "outputs": [],
      "source": [
        "import keras.backend as K\n",
        "\n",
        "def L1_loss(new_true_val, new_pred_val):\n",
        "    pass\n",
        "\n",
        "\n",
        "def min_loss(new_true_val, new_pred_val):\n",
        "    new_true_val = float(new_true_val)\n",
        "    new_pred_val = float(new_pred_val)\n",
        "    max_angle_range = tf.constant([360],dtype=float)\n",
        "    if new_pred_val < 0 and new_pred_val > 360:\n",
        "        return tf.abs(new_true_val - new_pred_val)**2\n",
        "    else:\n",
        "        # K.print_tensor('')\n",
        "        # K.print_tensor(new_true_val, message='new_true_val = ')\n",
        "        # K.print_tensor(new_pred_val, message='new_pred_val = ')\n",
        "        error1 = tf.abs(new_true_val - new_pred_val)\n",
        "        error2 = tf.abs(max_angle_range - tf.abs(new_true_val - new_pred_val))\n",
        "        if tf.less(error1, error2)[0]:\n",
        "            error = error1\n",
        "        else:\n",
        "            error = error2\n",
        "        # K.print_tensor(error, message='error = ')\n",
        "        return error**2\n",
        "\n",
        "\n",
        "def sin_loss(new_true_val, new_pred_val): # sin Loss⇒sin((x2-x1)/2), \n",
        "    pi_on_180 = 0.017453292519943295 # convert val to radian\n",
        "    new_thres_val = 0.1\n",
        "    error = tf.abs(new_true_val - new_pred_val) * pi_on_180\n",
        "    error = tf.sin(error/2)\n",
        "    small_err = new_thres_val <= tf.abs(error)\n",
        "    new_err_loss = tf.abs(error)*360\n",
        "    max_err_loss = new_thres_val * tf.abs(error)\n",
        "    return new_err_loss**2\n",
        "    #return tf.where(small_err, new_err_loss, max_err_loss)\n",
        "\n",
        "\n",
        "def cos_loss(new_true_val, new_pred_val): # cos Loss⇒|-cos((x2-x1)/2)+1|\n",
        "    pi_on_180 = 0.017453292519943295 # convert val to radian\n",
        "    new_thres_val = 0.1\n",
        "    error1 = (new_true_val - new_pred_val) * pi_on_180\n",
        "    error =  -tf.cos((error1/2)) + 1\n",
        "    small_err = new_thres_val <= tf.abs(error)\n",
        "    new_err_loss = tf.abs(error)\n",
        "    max_err_loss = new_thres_val * tf.abs(error)\n",
        "    return tf.where(small_err, new_err_loss, max_err_loss)"
      ]
    },
    {
      "cell_type": "code",
      "execution_count": null,
      "metadata": {
        "id": "7mwEYI27qh1B"
      },
      "outputs": [],
      "source": [
        "pi_on_180 = 0.017453292519943295 # convert val to radian\n",
        "temp = tf.convert_to_tensor([0, 90.,180., 270., 360.])\n",
        "print(temp*pi_on_180)\n",
        "print(tf.cos(temp * pi_on_180)+1)\n",
        "\n",
        "\n",
        "pi_on_180 = 0.017453292519943295 # convert val to radian\n",
        "temp = tf.convert_to_tensor([0, 90.,180., 270., 360.])\n",
        "print(temp*pi_on_180)\n",
        "print(tf.sin(temp * pi_on_180))"
      ]
    },
    {
      "cell_type": "markdown",
      "metadata": {
        "id": "lkr_JG8mzphF"
      },
      "source": [
        "# Train"
      ]
    },
    {
      "cell_type": "code",
      "source": [
        "resnet_model.compile(optimizer='Adam', loss=sin_loss) # loss='mse'"
      ],
      "metadata": {
        "id": "elbLgrdz1NOO"
      },
      "execution_count": null,
      "outputs": []
    },
    {
      "cell_type": "code",
      "execution_count": null,
      "metadata": {
        "id": "TaV_tszUzrAl",
        "scrolled": true,
        "colab": {
          "base_uri": "https://localhost:8080/"
        },
        "outputId": "0ea3d2d2-7a4a-42a1-8561-e26bec63f86b"
      },
      "outputs": [
        {
          "output_type": "stream",
          "name": "stdout",
          "text": [
            "Epoch 1/50\n",
            "360/360 - 23s - loss: 1449.8998 - 23s/epoch - 64ms/step\n",
            "Epoch 2/50\n",
            "360/360 - 22s - loss: 498.3393 - 22s/epoch - 62ms/step\n",
            "Epoch 3/50\n",
            "360/360 - 22s - loss: 2428.2400 - 22s/epoch - 61ms/step\n",
            "Epoch 4/50\n",
            "360/360 - 22s - loss: 652.1965 - 22s/epoch - 61ms/step\n",
            "Epoch 5/50\n",
            "360/360 - 22s - loss: 710.5201 - 22s/epoch - 61ms/step\n",
            "Epoch 6/50\n",
            "360/360 - 23s - loss: 1103.1115 - 23s/epoch - 65ms/step\n",
            "Epoch 7/50\n",
            "360/360 - 23s - loss: 1222.5566 - 23s/epoch - 63ms/step\n",
            "Epoch 8/50\n",
            "360/360 - 22s - loss: 1958.3344 - 22s/epoch - 61ms/step\n",
            "Epoch 9/50\n",
            "360/360 - 22s - loss: 509.2253 - 22s/epoch - 62ms/step\n",
            "Epoch 10/50\n",
            "360/360 - 22s - loss: 264.2053 - 22s/epoch - 61ms/step\n",
            "Epoch 11/50\n",
            "360/360 - 22s - loss: 1447.0382 - 22s/epoch - 61ms/step\n",
            "Epoch 12/50\n",
            "360/360 - 22s - loss: 2702.2493 - 22s/epoch - 61ms/step\n",
            "Epoch 13/50\n",
            "360/360 - 22s - loss: 2931.2815 - 22s/epoch - 61ms/step\n",
            "Epoch 14/50\n",
            "360/360 - 22s - loss: 3468.7478 - 22s/epoch - 61ms/step\n",
            "Epoch 15/50\n",
            "360/360 - 23s - loss: 1973.9950 - 23s/epoch - 63ms/step\n",
            "Epoch 16/50\n",
            "360/360 - 22s - loss: 948.0521 - 22s/epoch - 62ms/step\n",
            "Epoch 17/50\n",
            "360/360 - 22s - loss: 245.5751 - 22s/epoch - 62ms/step\n",
            "Epoch 18/50\n",
            "360/360 - 23s - loss: 240.9359 - 23s/epoch - 63ms/step\n",
            "Epoch 19/50\n",
            "360/360 - 22s - loss: 398.4938 - 22s/epoch - 62ms/step\n",
            "Epoch 20/50\n",
            "360/360 - 22s - loss: 116.8741 - 22s/epoch - 62ms/step\n",
            "Epoch 21/50\n",
            "360/360 - 23s - loss: 2986.9390 - 23s/epoch - 63ms/step\n",
            "Epoch 22/50\n",
            "360/360 - 23s - loss: 834.0130 - 23s/epoch - 63ms/step\n",
            "Epoch 23/50\n",
            "360/360 - 22s - loss: 987.7341 - 22s/epoch - 62ms/step\n",
            "Epoch 24/50\n",
            "360/360 - 23s - loss: 1095.1357 - 23s/epoch - 63ms/step\n",
            "Epoch 25/50\n",
            "360/360 - 23s - loss: 1495.5792 - 23s/epoch - 63ms/step\n",
            "Epoch 26/50\n",
            "360/360 - 23s - loss: 1865.8799 - 23s/epoch - 63ms/step\n",
            "Epoch 27/50\n",
            "360/360 - 22s - loss: 1400.4167 - 22s/epoch - 62ms/step\n",
            "Epoch 28/50\n",
            "360/360 - 23s - loss: 1011.1756 - 23s/epoch - 63ms/step\n",
            "Epoch 29/50\n",
            "360/360 - 23s - loss: 1399.3844 - 23s/epoch - 63ms/step\n",
            "Epoch 30/50\n",
            "360/360 - 23s - loss: 2883.9768 - 23s/epoch - 63ms/step\n",
            "Epoch 31/50\n",
            "360/360 - 23s - loss: 2250.8545 - 23s/epoch - 64ms/step\n",
            "Epoch 32/50\n",
            "360/360 - 23s - loss: 2306.7786 - 23s/epoch - 64ms/step\n",
            "Epoch 33/50\n",
            "360/360 - 23s - loss: 988.7139 - 23s/epoch - 64ms/step\n",
            "Epoch 34/50\n",
            "360/360 - 23s - loss: 641.7000 - 23s/epoch - 64ms/step\n",
            "Epoch 35/50\n",
            "360/360 - 23s - loss: 250.6099 - 23s/epoch - 65ms/step\n",
            "Epoch 36/50\n",
            "360/360 - 23s - loss: 505.7125 - 23s/epoch - 64ms/step\n",
            "Epoch 37/50\n",
            "360/360 - 23s - loss: 2980.4771 - 23s/epoch - 64ms/step\n",
            "Epoch 38/50\n",
            "360/360 - 24s - loss: 805.4661 - 24s/epoch - 65ms/step\n",
            "Epoch 39/50\n",
            "360/360 - 23s - loss: 2152.4573 - 23s/epoch - 65ms/step\n",
            "Epoch 40/50\n",
            "360/360 - 23s - loss: 3502.3284 - 23s/epoch - 65ms/step\n",
            "Epoch 41/50\n",
            "360/360 - 24s - loss: 948.9125 - 24s/epoch - 65ms/step\n",
            "Epoch 42/50\n",
            "360/360 - 23s - loss: 1183.0790 - 23s/epoch - 64ms/step\n",
            "Epoch 43/50\n",
            "360/360 - 23s - loss: 711.2252 - 23s/epoch - 65ms/step\n",
            "Epoch 44/50\n",
            "360/360 - 23s - loss: 798.3618 - 23s/epoch - 65ms/step\n",
            "Epoch 45/50\n",
            "360/360 - 23s - loss: 518.8162 - 23s/epoch - 65ms/step\n",
            "Epoch 46/50\n",
            "360/360 - 23s - loss: 687.9963 - 23s/epoch - 64ms/step\n",
            "Epoch 47/50\n",
            "360/360 - 23s - loss: 704.6647 - 23s/epoch - 64ms/step\n",
            "Epoch 48/50\n",
            "360/360 - 23s - loss: 584.5527 - 23s/epoch - 64ms/step\n",
            "Epoch 49/50\n",
            "360/360 - 23s - loss: 628.4586 - 23s/epoch - 65ms/step\n",
            "Epoch 50/50\n",
            "360/360 - 23s - loss: 719.8479 - 23s/epoch - 64ms/step\n"
          ]
        }
      ],
      "source": [
        "history = resnet_model.fit(\n",
        "    train_data,\n",
        "    epochs=50,\n",
        "    verbose=2,\n",
        ")\n",
        "\n",
        "# history = res_model.fit(\n",
        "#     train_images, \n",
        "#     validation_data=val_images, \n",
        "#     epochs=100,\n",
        "#     callbacks=[\n",
        "#           tf.keras.callbacks.EarlyStopping(\n",
        "#               monitor='val_loss',\n",
        "#               patience=5,\n",
        "#               restore_best_weights=True\n",
        "#         )\n",
        "#     ]\n",
        "# )"
      ]
    },
    {
      "cell_type": "code",
      "execution_count": null,
      "metadata": {
        "id": "l66YTHZZqh1C"
      },
      "outputs": [],
      "source": [
        "resnet_model.save(model_path)"
      ]
    },
    {
      "cell_type": "markdown",
      "metadata": {
        "id": "sPB9q7wM0G-a"
      },
      "source": [
        "# Result"
      ]
    },
    {
      "cell_type": "code",
      "execution_count": null,
      "metadata": {
        "colab": {
          "base_uri": "https://localhost:8080/"
        },
        "id": "59RHhHvgEoYH",
        "outputId": "230cb8ec-5597-4797-da6f-849d1a3fdae4"
      },
      "outputs": [
        {
          "output_type": "stream",
          "name": "stdout",
          "text": [
            "Test RMSE : 34.93952\n",
            "Test R^2 Score: -4.63241\n"
          ]
        }
      ],
      "source": [
        "prediction_value = np.squeeze(resnet_model.predict(test_data))\n",
        "true_value = test_data.labels\n",
        "\n",
        "rmse = np.sqrt(resnet_model.evaluate(test_data, verbose=0))\n",
        "print(\"Test RMSE : {:.5f}\".format(rmse))\n",
        "\n",
        "r2 = r2_score(true_value, prediction_value)\n",
        "print(\"Test R^2 Score: {:.5f}\".format(r2))"
      ]
    },
    {
      "cell_type": "code",
      "execution_count": null,
      "metadata": {
        "id": "A5JwkHxVHWAR"
      },
      "outputs": [],
      "source": [
        "# null_rmse = np.sqrt(np.sum((true_value - np.mean(true_value))**2) / len(true_value))\n",
        "# print(\"Null/Baseline Model Test RMSE: {:.5f}\".format(null_rmse))"
      ]
    },
    {
      "cell_type": "code",
      "execution_count": null,
      "metadata": {
        "colab": {
          "base_uri": "https://localhost:8080/"
        },
        "id": "lADwVNSgtr8J",
        "outputId": "30866420-9393-4686-ea95-f15c609abe66"
      },
      "outputs": [
        {
          "output_type": "stream",
          "name": "stdout",
          "text": [
            "idx : 0 , y : 145   y_hat : 144.8155059814453\n",
            "idx : 1 , y : 1   y_hat : 5.992748260498047\n",
            "idx : 2 , y : 336   y_hat : 338.23114013671875\n",
            "idx : 3 , y : 138   y_hat : 139.75759887695312\n",
            "idx : 4 , y : 328   y_hat : 330.69158935546875\n",
            "idx : 5 , y : 112   y_hat : 115.23977661132812\n",
            "idx : 6 , y : 353   y_hat : 358.62070965766907\n",
            "idx : 7 , y : 249   y_hat : 249.0749969482422\n",
            "idx : 8 , y : 216   y_hat : 218.49591064453125\n",
            "idx : 9 , y : 148   y_hat : 148.1342010498047\n",
            "idx : 10 , y : 190   y_hat : 213.9866943359375\n",
            "idx : 11 , y : 230   y_hat : 232.92768096923828\n",
            "idx : 12 , y : 40   y_hat : 41.39617919921875\n",
            "idx : 13 , y : 56   y_hat : 59.146488189697266\n",
            "idx : 14 , y : 116   y_hat : 121.06489562988281\n",
            "idx : 15 , y : 197   y_hat : 197.55813598632812\n",
            "idx : 16 , y : 264   y_hat : 265.6064910888672\n",
            "idx : 17 , y : 358   y_hat : 359.4808980822563\n",
            "idx : 18 , y : 333   y_hat : 335.2097797393799\n",
            "idx : 19 , y : 73   y_hat : 74.29496002197266\n",
            "idx : 20 , y : 137   y_hat : 136.8545379638672\n",
            "idx : 21 , y : 75   y_hat : 75.64907836914062\n",
            "idx : 22 , y : 329   y_hat : 331.55414390563965\n",
            "idx : 23 , y : 215   y_hat : 220.4375762939453\n",
            "idx : 24 , y : 217   y_hat : 219.6305389404297\n",
            "idx : 25 , y : 46   y_hat : 47.05725860595703\n",
            "idx : 26 , y : 47   y_hat : 47.815120697021484\n",
            "idx : 27 , y : 55   y_hat : 60.49188232421875\n",
            "idx : 28 , y : 289   y_hat : 288.64693450927734\n",
            "idx : 29 , y : 106   y_hat : 107.44562530517578\n",
            "idx : 30 , y : 88   y_hat : 87.43389129638672\n",
            "idx : 31 , y : 51   y_hat : 52.72187805175781\n",
            "idx : 32 , y : 192   y_hat : 203.18020629882812\n",
            "idx : 33 , y : 275   y_hat : 275.93907928466797\n",
            "idx : 34 , y : 37   y_hat : 38.342037200927734\n",
            "idx : 35 , y : 191   y_hat : 229.4586639404297\n",
            "idx : 36 , y : 132   y_hat : 135.8458709716797\n",
            "idx : 37 , y : 325   y_hat : 326.53918075561523\n",
            "idx : 38 , y : 2   y_hat : 3.898024797439575\n",
            "idx : 39 , y : 175   y_hat : 176.04498291015625\n",
            "idx : 40 , y : 234   y_hat : 236.8446044921875\n",
            "idx : 41 , y : 36   y_hat : 41.56315612792969\n",
            "idx : 42 , y : 286   y_hat : 286.15135955810547\n",
            "idx : 43 , y : 187   y_hat : 187.19436645507812\n",
            "idx : 44 , y : 250   y_hat : 247.9862518310547\n",
            "idx : 45 , y : 181   y_hat : 186.89016723632812\n",
            "idx : 46 , y : 299   y_hat : 304.46109771728516\n",
            "idx : 47 , y : 109   y_hat : 114.0413589477539\n",
            "idx : 48 , y : 294   y_hat : 298.0472755432129\n",
            "idx : 49 , y : 227   y_hat : 229.4459991455078\n",
            "idx : 50 , y : 0   y_hat : 5.051641464233398\n",
            "idx : 51 , y : 52   y_hat : 53.56101989746094\n",
            "idx : 52 , y : 133   y_hat : 134.81515502929688\n",
            "idx : 53 , y : 335   y_hat : 336.2623043060303\n",
            "idx : 54 , y : 199   y_hat : 200.7508087158203\n",
            "idx : 55 , y : 355   y_hat : 359.25624454021454\n",
            "idx : 56 , y : 18   y_hat : 20.018054962158203\n",
            "idx : 57 , y : 282   y_hat : 287.2365188598633\n",
            "idx : 58 , y : 327   y_hat : 329.04955291748047\n",
            "idx : 59 , y : 320   y_hat : 323.86864852905273\n",
            "idx : 60 , y : 270   y_hat : 271.36859130859375\n",
            "idx : 61 , y : 228   y_hat : 230.63018798828125\n",
            "idx : 62 , y : 280   y_hat : 286.1158981323242\n",
            "idx : 63 , y : 100   y_hat : 99.7169418334961\n",
            "idx : 64 , y : 86   y_hat : 87.07902526855469\n",
            "idx : 65 , y : 258   y_hat : 261.1358184814453\n",
            "idx : 66 , y : 246   y_hat : 248.8589859008789\n",
            "idx : 67 , y : 321   y_hat : 324.3590087890625\n",
            "idx : 68 , y : 167   y_hat : 171.00575256347656\n",
            "idx : 69 , y : 63   y_hat : 63.849952697753906\n",
            "idx : 70 , y : 214   y_hat : 218.21421813964844\n",
            "idx : 71 , y : 306   y_hat : 307.1223602294922\n",
            "idx : 72 , y : 28   y_hat : 30.646635055541992\n",
            "idx : 73 , y : 29   y_hat : 33.4281005859375\n",
            "idx : 74 , y : 281   y_hat : 285.7197723388672\n",
            "idx : 75 , y : 15   y_hat : 19.465333938598633\n",
            "idx : 76 , y : 277   y_hat : 277.9241714477539\n",
            "idx : 77 , y : 222   y_hat : 223.17041015625\n",
            "idx : 78 , y : 356   y_hat : 357.7651786804199\n",
            "idx : 79 , y : 334   y_hat : 335.6923427581787\n",
            "idx : 80 , y : 17   y_hat : 20.415342330932617\n",
            "idx : 81 , y : 283   y_hat : 285.37389373779297\n",
            "idx : 82 , y : 312   y_hat : 313.84715270996094\n",
            "idx : 83 , y : 255   y_hat : 255.8674774169922\n",
            "idx : 84 , y : 332   y_hat : 334.36596870422363\n",
            "idx : 85 , y : 118   y_hat : 122.2001724243164\n",
            "idx : 86 , y : 9   y_hat : 14.531821250915527\n",
            "idx : 87 , y : 193   y_hat : 184.320556640625\n",
            "idx : 88 , y : 235   y_hat : 236.0338897705078\n",
            "idx : 89 , y : 219   y_hat : 223.00390625\n",
            "idx : 90 , y : 351   y_hat : 354.8805556297302\n",
            "idx : 91 , y : 207   y_hat : 213.3190155029297\n",
            "idx : 92 , y : 342   y_hat : 341.5441722869873\n",
            "idx : 93 , y : 134   y_hat : 136.30653381347656\n",
            "idx : 94 , y : 339   y_hat : 338.8525447845459\n",
            "idx : 95 , y : 115   y_hat : 118.53369903564453\n",
            "idx : 96 , y : 344   y_hat : 344.1811399459839\n",
            "idx : 97 , y : 31   y_hat : 36.45512771606445\n",
            "idx : 98 , y : 274   y_hat : 276.7475814819336\n",
            "idx : 99 , y : 76   y_hat : 74.96006774902344\n"
          ]
        }
      ],
      "source": [
        "import cv2\n",
        "\n",
        "for i in range(100):\n",
        "  temp = train_images.Filepath[i]\n",
        "  split_temp = temp.split(\"/\")[2]\n",
        "  print('idx :',i, ', y :',split_temp, end=\"  \")\n",
        "  img2 = cv2.imread(temp)\n",
        "  # int -> float\n",
        "  scalingFactor = 1\n",
        "  # Convert unsigned int 8bit to float\n",
        "  img2 = np.float32(img2)\n",
        "  img2 = img2*scalingFactor\n",
        "  # input layer 형식 맞추기\n",
        "  img2 = cv2.resize(img2, (height, width))\n",
        "\n",
        "  img2 = img2.reshape(-1, height, width,3)\n",
        "  # print(4,img2.shape)\n",
        "  y_hat = np.squeeze(resnet_model.predict(img2))\n",
        "  print(' y_hat :',y_hat%360)"
      ]
    },
    {
      "cell_type": "code",
      "execution_count": null,
      "metadata": {
        "id": "qf889DNaqh1D",
        "outputId": "20717dd3-68eb-43d8-9a3d-812011b41a8b"
      },
      "outputs": [
        {
          "data": {
            "text/plain": [
              "(1, 200, 200, 1)"
            ]
          },
          "execution_count": 119,
          "metadata": {},
          "output_type": "execute_result"
        }
      ],
      "source": [
        "img2.shape"
      ]
    },
    {
      "cell_type": "markdown",
      "metadata": {
        "id": "fU9DbNsrzSZi"
      },
      "source": [
        "# Model Save"
      ]
    },
    {
      "cell_type": "code",
      "execution_count": null,
      "metadata": {
        "id": "chfoStSG-aLy"
      },
      "outputs": [],
      "source": [
        "resnet_model.save('my_model_sin_loss.h5')"
      ]
    },
    {
      "cell_type": "code",
      "source": [],
      "metadata": {
        "id": "qptp5KFKQeFM"
      },
      "execution_count": null,
      "outputs": []
    }
  ],
  "metadata": {
    "accelerator": "GPU",
    "colab": {
      "collapsed_sections": [],
      "provenance": []
    },
    "gpuClass": "standard",
    "kernelspec": {
      "display_name": "Python 3 (ipykernel)",
      "language": "python",
      "name": "python3"
    },
    "language_info": {
      "codemirror_mode": {
        "name": "ipython",
        "version": 3
      },
      "file_extension": ".py",
      "mimetype": "text/x-python",
      "name": "python",
      "nbconvert_exporter": "python",
      "pygments_lexer": "ipython3",
      "version": "3.8.8"
    }
  },
  "nbformat": 4,
  "nbformat_minor": 0
}